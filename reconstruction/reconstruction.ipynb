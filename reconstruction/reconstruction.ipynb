{
 "cells": [
  {
   "cell_type": "markdown",
   "metadata": {},
   "source": [
    "# Reconstruction\n",
    "\n",
    "In this notebook, I will be conducting an architectural reconstruction on the <mark>[Zeeguu/API](https://github.com/zeeguu/api) project</mark>. This means that I will gather as much information as possible from the implicit architecture (as-implemented architecture), using a variety of different tools to gain perspective into different architectural views: code, module, evolutionary, and execution view.\n",
    "\n",
    "I will concentrate on recovering the <mark>architectural module view</mark>. As I lack extensive experience in reengineering, I've chosen a simpler view.\n",
    "\n",
    "<div class=\"alert alert-block alert-info\">\n",
    "    My primary objective is to recover the architectural module view, and gain a comprehensive understanding of the entire system.\n",
    "</div>"
   ]
  },
  {
   "cell_type": "markdown",
   "metadata": {},
   "source": [
    "## Architectural Lens\n",
    "\n",
    "The first tool I will use is called Architectural Lens. It is a software tool that generates a package view to display packages and their corresponding dependencies.\n",
    "\n",
    "Be aware that the GitHub readme documentation is not completely up to date.\n",
    "\n",
    "Link: [Architectural-Lens/tree/master](https://github.com/Perlten/Architectural-Lens/tree/master)"
   ]
  },
  {
   "cell_type": "code",
   "execution_count": 1,
   "metadata": {},
   "outputs": [
    {
     "name": "stdout",
     "output_type": "stream",
     "text": [
      "Requirement already satisfied: Architectural-Lens in /Library/Frameworks/Python.framework/Versions/3.12/lib/python3.12/site-packages (0.0.6)\n",
      "Requirement already satisfied: plantuml in /Library/Frameworks/Python.framework/Versions/3.12/lib/python3.12/site-packages (from Architectural-Lens) (0.3.0)\n",
      "Requirement already satisfied: typer in /Library/Frameworks/Python.framework/Versions/3.12/lib/python3.12/site-packages (from Architectural-Lens) (0.12.3)\n",
      "Requirement already satisfied: astroid in /Library/Frameworks/Python.framework/Versions/3.12/lib/python3.12/site-packages (from Architectural-Lens) (2.15.8)\n",
      "Requirement already satisfied: six in /Library/Frameworks/Python.framework/Versions/3.12/lib/python3.12/site-packages (from Architectural-Lens) (1.16.0)\n",
      "Requirement already satisfied: requests in /Library/Frameworks/Python.framework/Versions/3.12/lib/python3.12/site-packages (from Architectural-Lens) (2.31.0)\n",
      "Requirement already satisfied: jsonschema in /Library/Frameworks/Python.framework/Versions/3.12/lib/python3.12/site-packages (from Architectural-Lens) (4.22.0)\n",
      "Requirement already satisfied: gitpython in /Library/Frameworks/Python.framework/Versions/3.12/lib/python3.12/site-packages (from Architectural-Lens) (3.1.43)\n",
      "Requirement already satisfied: lazy-object-proxy>=1.4.0 in /Library/Frameworks/Python.framework/Versions/3.12/lib/python3.12/site-packages (from astroid->Architectural-Lens) (1.10.0)\n",
      "Requirement already satisfied: wrapt<2,>=1.14 in /Library/Frameworks/Python.framework/Versions/3.12/lib/python3.12/site-packages (from astroid->Architectural-Lens) (1.16.0)\n",
      "Requirement already satisfied: gitdb<5,>=4.0.1 in /Library/Frameworks/Python.framework/Versions/3.12/lib/python3.12/site-packages (from gitpython->Architectural-Lens) (4.0.11)\n",
      "Requirement already satisfied: attrs>=22.2.0 in /Library/Frameworks/Python.framework/Versions/3.12/lib/python3.12/site-packages (from jsonschema->Architectural-Lens) (23.2.0)\n",
      "Requirement already satisfied: jsonschema-specifications>=2023.03.6 in /Library/Frameworks/Python.framework/Versions/3.12/lib/python3.12/site-packages (from jsonschema->Architectural-Lens) (2023.12.1)\n",
      "Requirement already satisfied: referencing>=0.28.4 in /Library/Frameworks/Python.framework/Versions/3.12/lib/python3.12/site-packages (from jsonschema->Architectural-Lens) (0.35.1)\n",
      "Requirement already satisfied: rpds-py>=0.7.1 in /Library/Frameworks/Python.framework/Versions/3.12/lib/python3.12/site-packages (from jsonschema->Architectural-Lens) (0.18.0)\n",
      "Requirement already satisfied: httplib2 in /Library/Frameworks/Python.framework/Versions/3.12/lib/python3.12/site-packages (from plantuml->Architectural-Lens) (0.22.0)\n",
      "Requirement already satisfied: charset-normalizer<4,>=2 in /Library/Frameworks/Python.framework/Versions/3.12/lib/python3.12/site-packages (from requests->Architectural-Lens) (3.3.2)\n",
      "Requirement already satisfied: idna<4,>=2.5 in /Library/Frameworks/Python.framework/Versions/3.12/lib/python3.12/site-packages (from requests->Architectural-Lens) (3.7)\n",
      "Requirement already satisfied: urllib3<3,>=1.21.1 in /Library/Frameworks/Python.framework/Versions/3.12/lib/python3.12/site-packages (from requests->Architectural-Lens) (2.2.1)\n",
      "Requirement already satisfied: certifi>=2017.4.17 in /Library/Frameworks/Python.framework/Versions/3.12/lib/python3.12/site-packages (from requests->Architectural-Lens) (2024.2.2)\n",
      "Requirement already satisfied: click>=8.0.0 in /Library/Frameworks/Python.framework/Versions/3.12/lib/python3.12/site-packages (from typer->Architectural-Lens) (8.1.7)\n",
      "Requirement already satisfied: typing-extensions>=3.7.4.3 in /Library/Frameworks/Python.framework/Versions/3.12/lib/python3.12/site-packages (from typer->Architectural-Lens) (4.11.0)\n",
      "Requirement already satisfied: shellingham>=1.3.0 in /Library/Frameworks/Python.framework/Versions/3.12/lib/python3.12/site-packages (from typer->Architectural-Lens) (1.5.4)\n",
      "Requirement already satisfied: rich>=10.11.0 in /Library/Frameworks/Python.framework/Versions/3.12/lib/python3.12/site-packages (from typer->Architectural-Lens) (13.7.1)\n",
      "Requirement already satisfied: smmap<6,>=3.0.1 in /Library/Frameworks/Python.framework/Versions/3.12/lib/python3.12/site-packages (from gitdb<5,>=4.0.1->gitpython->Architectural-Lens) (5.0.1)\n",
      "Requirement already satisfied: markdown-it-py>=2.2.0 in /Library/Frameworks/Python.framework/Versions/3.12/lib/python3.12/site-packages (from rich>=10.11.0->typer->Architectural-Lens) (3.0.0)\n",
      "Requirement already satisfied: pygments<3.0.0,>=2.13.0 in /Library/Frameworks/Python.framework/Versions/3.12/lib/python3.12/site-packages (from rich>=10.11.0->typer->Architectural-Lens) (2.18.0)\n",
      "Requirement already satisfied: pyparsing!=3.0.0,!=3.0.1,!=3.0.2,!=3.0.3,<4,>=2.4.2 in /Library/Frameworks/Python.framework/Versions/3.12/lib/python3.12/site-packages (from httplib2->plantuml->Architectural-Lens) (3.1.2)\n",
      "Requirement already satisfied: mdurl~=0.1 in /Library/Frameworks/Python.framework/Versions/3.12/lib/python3.12/site-packages (from markdown-it-py>=2.2.0->rich>=10.11.0->typer->Architectural-Lens) (0.1.2)\n"
     ]
    }
   ],
   "source": [
    "!pip3 install Architectural-Lens # install the package"
   ]
  },
  {
   "cell_type": "code",
   "execution_count": 2,
   "metadata": {},
   "outputs": [
    {
     "name": "stdout",
     "output_type": "stream",
     "text": [
      "Current folder: reconstruction\n"
     ]
    }
   ],
   "source": [
    "import os\n",
    "\n",
    "# Locate the current directory\n",
    "current_folder = os.path.basename(os.getcwd())\n",
    "print(\"Current folder:\", current_folder)"
   ]
  },
  {
   "cell_type": "code",
   "execution_count": 3,
   "metadata": {},
   "outputs": [
    {
     "name": "stdout",
     "output_type": "stream",
     "text": [
      "Current folder: api\n"
     ]
    }
   ],
   "source": [
    "# Change the directory to the root of the 'zeeguu_project'\n",
    "ROOT_FOLDER = 'api'\n",
    "\n",
    "if current_folder != ROOT_FOLDER:\n",
    "    os.chdir(ROOT_FOLDER)\n",
    "    print(\"Current folder:\", os.path.basename(os.getcwd()))"
   ]
  },
  {
   "cell_type": "code",
   "execution_count": 4,
   "metadata": {},
   "outputs": [],
   "source": [
    "# Run the Architectural Lens\n",
    "!archlens init"
   ]
  },
  {
   "cell_type": "code",
   "execution_count": 5,
   "metadata": {},
   "outputs": [
    {
     "name": "stdout",
     "output_type": "stream",
     "text": [
      "'SUCCESS: archlens.json' file exists; the contents of the file are:\n",
      "{\n",
      "    \"$schema\": \"https://raw.githubusercontent.com/Perlten/Architectural-Lens/master/config.schema.json\",\n",
      "    \"name\": \"api\",\n",
      "    \"rootFolder\": \"\",\n",
      "    \"github\": {\n",
      "        \"url\": \"\",\n",
      "        \"branch\": \"main\"\n",
      "    },\n",
      "    \"saveLocation\": \"./diagrams/\",\n",
      "    \"views\": {\n",
      "        \"completeView\": {\n",
      "            \"packages\": [\n",
      "                {\n",
      "                    \"packagePath\": \"\",\n",
      "                    \"depth\": 0\n",
      "                }\n",
      "            ],\n",
      "            \"ignorePackages\": []\n",
      "        }\n",
      "    }\n",
      "}\n"
     ]
    }
   ],
   "source": [
    "# Check to see if the 'archlens.json' file is created\n",
    "if os.path.exists('archlens.json'):\n",
    "    print(\"'SUCCESS: archlens.json' file exists; the contents of the file are:\")\n",
    "    # Content of the 'archlens.json' file\n",
    "    with open('archlens.json', 'r') as file:\n",
    "        content = file.read()\n",
    "        print(content)\n",
    "else:\n",
    "    print(\"'archlens.json' file does not exist.\")"
   ]
  },
  {
   "cell_type": "markdown",
   "metadata": {},
   "source": [
    "<div class=\"alert alert-block alert-info\">\n",
    "    Now, I have to manually locate the `archlens.json` folder. This process involves specifying the rootFolder, naming the view I'm interested in extracting, and indicating the packages I'm not interested in, among other things.\n",
    "</div>\n",
    "\n",
    "First, I begin by viewing the entire system."
   ]
  },
  {
   "cell_type": "code",
   "execution_count": 6,
   "metadata": {},
   "outputs": [],
   "source": [
    "# Render the architectural package diagram\n",
    "# !pip3 uninstall plantuml\n",
    "# !archlens render              # COMMENTED OUT\n",
    "\"\"\"\n",
    "Error:\n",
    "File \"/Library/Frameworks/Python.framework/Versions/3.11/lib/python3.11/site-packages/plantuml.py\", line 171, in processes\n",
    "    raise PlantUMLConnectionError(e)\n",
    "PlantUMLConnectionError: Unable to find the server at mt-plantuml-app-service.azurewebsites.net\n",
    "\"\"\";"
   ]
  },
  {
   "cell_type": "markdown",
   "metadata": {},
   "source": [
    "<div class=\"alert alert-block alert-warning\">  \n",
    "    Given that I encountered a <mark>PlantUMLConnectionError</mark> and was unable to resolve it, I used the following `archlens.json` config file. Instead, I had a fellow student run the `archlens render` command for me.\n",
    "</div>"
   ]
  },
  {
   "cell_type": "markdown",
   "metadata": {},
   "source": [
    "<div class=\"alert alert-block alert-info\">\n",
    "    I used the following json code.\n",
    "</div>\n",
    "\n",
    "```json\n",
    "{\n",
    "    \"$schema\": \"https://raw.githubusercontent.com/Perlten/Architectural-Lens/master/config.schema.json\",\n",
    "    \"name\": \"-\",\n",
    "    \"rootFolder\": \"zeeguu\",\n",
    "    \"github\": {\n",
    "        \"url\": \"https://github.com/zeeguu/api\",\n",
    "        \"branch\": \"master\"\n",
    "    },\n",
    "    \"saveLocation\": \"./diagramsSimon/\",\n",
    "    \"views\": {\n",
    "        \"completeView\": {\n",
    "            \"packages\": [],\n",
    "            \"ignorePackages\": []\n",
    "        },\n",
    "        \"coreView\": {\n",
    "            \"packages\": [\"core\"],\n",
    "            \"ignorePackages\": []\n",
    "        },\n",
    "        \"coreModelView\": {\n",
    "            \"packages\": [\"core.model\"],\n",
    "            \"ignorePackages\": []\n",
    "        },\n",
    "        \"apiView\": {\n",
    "            \"packages\": [\"api\"],\n",
    "            \"ignorePackages\": []\n",
    "        },\n",
    "        \"apiDepthView\": {\n",
    "            \"packages\": [\n",
    "                {\n",
    "                    \"path\": \"api\",\n",
    "                    \"depth\": 3\n",
    "                }\n",
    "            ],\n",
    "            \"ignorePackages\": []\n",
    "        }\n",
    "    }\n",
    "}\n",
    "```"
   ]
  },
  {
   "cell_type": "markdown",
   "metadata": {},
   "source": [
    "<div class=\"alert alert-block alert-success\">\n",
    "    Given that the tool did not output the diagrams I attempted to configure, I managed to obtain three different views: complete, core, and API view, all at depth 2. They are all shown below:\n",
    "</div>\n",
    "\n",
    "**Complete, top-level-view, of source code**\n",
    "<img src=\"../img/archlens/completeView.png\"\n",
    "     alt=\"api\"\n",
    "     style=\"float: center; margin-right: 10px; margin-bottom: 10px\" />\n",
    "\n",
    "\n",
    "**View of API module**   \n",
    "<img src=\"../img/archlens/apiDepth.png\"\n",
    "     alt=\"api\"\n",
    "     style=\"float: center; margin-right: 10px; margin-bottom: 10px\" />\n",
    "\n",
    "     \n",
    "**View of Core module**\n",
    "<img src=\"../img/archlens/coreView.png\"\n",
    "     alt=\"api\"\n",
    "     style=\"float: left; margin-right: 10px; margin-bottom: 10px\" />\n"
   ]
  },
  {
   "cell_type": "markdown",
   "metadata": {},
   "source": [
    "## Pyreverse\n",
    "\n",
    "The second tool I will use is the Pyreverse tool, which is part of the pylint package, a static code analyzer.\n",
    "\n",
    "Link: [Pyreverse](https://pypi.org/project/pyreverse/)"
   ]
  },
  {
   "cell_type": "code",
   "execution_count": 7,
   "metadata": {},
   "outputs": [
    {
     "name": "stdout",
     "output_type": "stream",
     "text": [
      "Requirement already satisfied: pylint in /Library/Frameworks/Python.framework/Versions/3.12/lib/python3.12/site-packages (2.17.7)\n",
      "Requirement already satisfied: platformdirs>=2.2.0 in /Users/simonskodt/Library/Python/3.12/lib/python/site-packages (from pylint) (4.2.1)\n",
      "Requirement already satisfied: astroid<=2.17.0-dev0,>=2.15.8 in /Library/Frameworks/Python.framework/Versions/3.12/lib/python3.12/site-packages (from pylint) (2.15.8)\n",
      "Requirement already satisfied: isort<6,>=4.2.5 in /Library/Frameworks/Python.framework/Versions/3.12/lib/python3.12/site-packages (from pylint) (5.13.2)\n",
      "Requirement already satisfied: mccabe<0.8,>=0.6 in /Library/Frameworks/Python.framework/Versions/3.12/lib/python3.12/site-packages (from pylint) (0.7.0)\n",
      "Requirement already satisfied: tomlkit>=0.10.1 in /Library/Frameworks/Python.framework/Versions/3.12/lib/python3.12/site-packages (from pylint) (0.12.4)\n",
      "Requirement already satisfied: dill>=0.3.6 in /Library/Frameworks/Python.framework/Versions/3.12/lib/python3.12/site-packages (from pylint) (0.3.8)\n",
      "Requirement already satisfied: lazy-object-proxy>=1.4.0 in /Library/Frameworks/Python.framework/Versions/3.12/lib/python3.12/site-packages (from astroid<=2.17.0-dev0,>=2.15.8->pylint) (1.10.0)\n",
      "Requirement already satisfied: wrapt<2,>=1.14 in /Library/Frameworks/Python.framework/Versions/3.12/lib/python3.12/site-packages (from astroid<=2.17.0-dev0,>=2.15.8->pylint) (1.16.0)\n"
     ]
    }
   ],
   "source": [
    "!pip3 install pylint"
   ]
  },
  {
   "cell_type": "code",
   "execution_count": 8,
   "metadata": {},
   "outputs": [
    {
     "name": "stdout",
     "output_type": "stream",
     "text": [
      "Format png is not supported natively. Pyreverse will try to generate it using Graphviz...\n",
      "parsing zeeguu/core/language/__init__.py...\n",
      "parsing /Users/simonskodt/Library/Mobile Documents/com~apple~CloudDocs/8_semester/SOARC_Software-Architecture/Individual-project/architectural-reconstruction/reconstruction/api/zeeguu/core/language/__init__.py...\n",
      "parsing /Users/simonskodt/Library/Mobile Documents/com~apple~CloudDocs/8_semester/SOARC_Software-Architecture/Individual-project/architectural-reconstruction/reconstruction/api/zeeguu/core/language/difficulty_estimator_factory.py...\n",
      "parsing /Users/simonskodt/Library/Mobile Documents/com~apple~CloudDocs/8_semester/SOARC_Software-Architecture/Individual-project/architectural-reconstruction/reconstruction/api/zeeguu/core/language/difficulty_estimator_strategy.py...\n",
      "parsing /Users/simonskodt/Library/Mobile Documents/com~apple~CloudDocs/8_semester/SOARC_Software-Architecture/Individual-project/architectural-reconstruction/reconstruction/api/zeeguu/core/language/strategies/word_rank_difficulty_estimator.py...\n",
      "parsing /Users/simonskodt/Library/Mobile Documents/com~apple~CloudDocs/8_semester/SOARC_Software-Architecture/Individual-project/architectural-reconstruction/reconstruction/api/zeeguu/core/language/strategies/word_history_difficulty_estimator.py...\n",
      "parsing /Users/simonskodt/Library/Mobile Documents/com~apple~CloudDocs/8_semester/SOARC_Software-Architecture/Individual-project/architectural-reconstruction/reconstruction/api/zeeguu/core/language/strategies/cognacy_wh_difficulty_estimator.py...\n",
      "parsing /Users/simonskodt/Library/Mobile Documents/com~apple~CloudDocs/8_semester/SOARC_Software-Architecture/Individual-project/architectural-reconstruction/reconstruction/api/zeeguu/core/language/strategies/flesch_kincaid_difficulty_estimator.py...\n",
      "parsing /Users/simonskodt/Library/Mobile Documents/com~apple~CloudDocs/8_semester/SOARC_Software-Architecture/Individual-project/architectural-reconstruction/reconstruction/api/zeeguu/core/language/strategies/__init__.py...\n",
      "parsing /Users/simonskodt/Library/Mobile Documents/com~apple~CloudDocs/8_semester/SOARC_Software-Architecture/Individual-project/architectural-reconstruction/reconstruction/api/zeeguu/core/language/strategies/default_difficulty_estimator.py...\n",
      "parsing /Users/simonskodt/Library/Mobile Documents/com~apple~CloudDocs/8_semester/SOARC_Software-Architecture/Individual-project/architectural-reconstruction/reconstruction/api/zeeguu/core/language/strategies/frequency_difficulty_estimator.py...\n",
      "parsing /Users/simonskodt/Library/Mobile Documents/com~apple~CloudDocs/8_semester/SOARC_Software-Architecture/Individual-project/architectural-reconstruction/reconstruction/api/zeeguu/core/language/strategies/cognacy_difficulty_estimator.py...\n"
     ]
    }
   ],
   "source": [
    "# The outcommented code below was used to different class and package diagrams\n",
    "# !pyreverse -o png zeeguu\n",
    "# !pyreverse -o png zeeguu/core\n",
    "# !pyreverse -o png zeeguu/core/model\n",
    "# !pyreverse -o png zeeguu/api\n",
    "# !pyreverse -o png zeeguu/api/endpoints\n",
    "!pyreverse -o png zeeguu/core/language"
   ]
  },
  {
   "cell_type": "markdown",
   "metadata": {},
   "source": [
    "<div class=\"alert alert-block alert-success\">\n",
    "    Some of the interestingly generated diagrams are inserted below:\n",
    "</div>"
   ]
  },
  {
   "cell_type": "markdown",
   "metadata": {},
   "source": [
    "**API package diagram**\n",
    "<img src=\"../img/pyreverse/api-packages.png\"\n",
    "     alt=\"api\"\n",
    "     style=\"float: center; margin-right: 10px; margin-bottom: 10px\" />\n",
    "\n",
    "**<code>core/model/estimator</code> class diagram**   \n",
    "<img src=\"../img/pyreverse/core-estimator-classes.png\"\n",
    "     alt=\"api\"\n",
    "     style=\"float: center; margin-right: 10px; margin-bottom: 10px\" />"
   ]
  },
  {
   "cell_type": "markdown",
   "metadata": {},
   "source": [
    "## Git Truck\n",
    "\n",
    "The third tool I will use is the Git-Truck tool, which looks at files that are most often changed and who has contributed to which files.\n",
    "\n",
    "Link: [git-truck/tree/main](https://github.com/git-truck/git-truck)"
   ]
  },
  {
   "cell_type": "code",
   "execution_count": 9,
   "metadata": {},
   "outputs": [],
   "source": [
    "# !npx -y git-truck"
   ]
  },
  {
   "cell_type": "markdown",
   "metadata": {},
   "source": [
    "<div class=\"alert alert-block alert-success\">\n",
    "    From Git-Truck, I was able to obtain information about which files were committed to most, which files were changed recently, and which files have not been changed in a while. I also found out which files only have a single contributor, and who in general is the biggest contributor.\n",
    "</div>"
   ]
  },
  {
   "cell_type": "markdown",
   "metadata": {},
   "source": [
    "**Number of commits**; *the <span style=\"color:red;\">redder</span> it is, the greater the number of commits*\n",
    "<img src=\"../img/gittruck/commits.png\"\n",
    "     alt=\"api\"\n",
    "     style=\"float: center; margin-right: 10px; margin-bottom: 10px\" />\n",
    "\n",
    "**Time since file was changed**; *if it is <span style=\"color:lightblue;\">light blue</span>, then it has been recently changed and vise versa*\n",
    "<img src=\"../img/gittruck/last-changed.png\"\n",
    "     alt=\"api\"\n",
    "     style=\"float: center; margin-right: 10px; margin-bottom: 10px\" />\n",
    "\n",
    "**Files with a single author**; *if <span style=\"color:cyan;\">in</span> <span style=\"color:lightblue;\">any</span> <span style=\"color:purple;\">color</span>*, then there has only been a single author contributing to that file\n",
    "<img src=\"../img/gittruck/single-author.png\"\n",
    "     alt=\"api\"\n",
    "     style=\"float: center; margin-right: 10px; margin-bottom: 10px\" />\n",
    "\n",
    "**Top contributor per file**; *a <span style=\"color:lightblue;\">distinct</span> color for each contributor*\n",
    "<img src=\"../img/gittruck/top-contributer.png\"\n",
    "     alt=\"api\"\n",
    "     style=\"float: center; margin-right: 10px; margin-bottom: 10px\" />"
   ]
  },
  {
   "cell_type": "markdown",
   "metadata": {},
   "source": [
    "## Static Code Analysis\n",
    "\n",
    "To gain a better understanding of the system, I will conduct a static analysis to reveal dependencies, vulnerabilities, and potential bugs.\n",
    "\n",
    "### Pylint\n",
    "\n",
    "First, I will use Pylint, which we have previously installed, in order make the Pyreverse tool to work.\n",
    "\n",
    "Link: [pylint.org](https://www.pylint.org/)"
   ]
  },
  {
   "cell_type": "code",
   "execution_count": 49,
   "metadata": {},
   "outputs": [],
   "source": [
    "# !pylint zeeguu    # FIND IN SOURCE_ANALYSIS_FILES FOLDER"
   ]
  },
  {
   "cell_type": "markdown",
   "metadata": {},
   "source": [
    "<div class=\"alert alert-block alert-success\">\n",
    "    The prospector tools found 1,427 errors, running the following tools: dodgy, mccabe, profile-validator, pycodestyle, pyflakes, pylint. Many of the errors are import-errors, unused-imports, arguments-differ, unused-variables, and pycodestyle issues such as whitespace, indentations, and too-long lines. There are also examples of high cyclomatic complexity, e.g., in the AutoGECTagging.generate_labels method.\n",
    "</div>"
   ]
  },
  {
   "cell_type": "markdown",
   "metadata": {},
   "source": [
    "### Prospector\n",
    "\n",
    "It turns out that Prospector can encapsulate many of the static analysis tools for Python, such as Pylint, Pyflakes, Mccabe, etc.\n",
    "\n",
    "Link: [prospector.landscape.io](https://prospector.landscape.io/en/master/)"
   ]
  },
  {
   "cell_type": "code",
   "execution_count": 11,
   "metadata": {},
   "outputs": [
    {
     "name": "stdout",
     "output_type": "stream",
     "text": [
      "Requirement already satisfied: prospector in /Library/Frameworks/Python.framework/Versions/3.12/lib/python3.12/site-packages (1.10.3)\n",
      "Requirement already satisfied: GitPython<4.0.0,>=3.1.27 in /Library/Frameworks/Python.framework/Versions/3.12/lib/python3.12/site-packages (from prospector) (3.1.43)\n",
      "Requirement already satisfied: PyYAML in /Library/Frameworks/Python.framework/Versions/3.12/lib/python3.12/site-packages (from prospector) (6.0.1)\n",
      "Requirement already satisfied: dodgy<0.3.0,>=0.2.1 in /Library/Frameworks/Python.framework/Versions/3.12/lib/python3.12/site-packages (from prospector) (0.2.1)\n",
      "Requirement already satisfied: flake8<6.0.0 in /Library/Frameworks/Python.framework/Versions/3.12/lib/python3.12/site-packages (from prospector) (5.0.4)\n",
      "Requirement already satisfied: mccabe<0.8.0,>=0.7.0 in /Library/Frameworks/Python.framework/Versions/3.12/lib/python3.12/site-packages (from prospector) (0.7.0)\n",
      "Requirement already satisfied: packaging in /Users/simonskodt/Library/Python/3.12/lib/python/site-packages (from prospector) (24.0)\n",
      "Requirement already satisfied: pep8-naming<=0.10.0,>=0.3.3 in /Library/Frameworks/Python.framework/Versions/3.12/lib/python3.12/site-packages (from prospector) (0.10.0)\n",
      "Requirement already satisfied: pycodestyle>=2.9.0 in /Library/Frameworks/Python.framework/Versions/3.12/lib/python3.12/site-packages (from prospector) (2.9.1)\n",
      "Requirement already satisfied: pydocstyle>=2.0.0 in /Library/Frameworks/Python.framework/Versions/3.12/lib/python3.12/site-packages (from prospector) (6.3.0)\n",
      "Requirement already satisfied: pyflakes<3,>=2.2.0 in /Library/Frameworks/Python.framework/Versions/3.12/lib/python3.12/site-packages (from prospector) (2.5.0)\n",
      "Requirement already satisfied: pylint>=2.8.3 in /Library/Frameworks/Python.framework/Versions/3.12/lib/python3.12/site-packages (from prospector) (2.17.7)\n",
      "Requirement already satisfied: pylint-celery==0.3 in /Library/Frameworks/Python.framework/Versions/3.12/lib/python3.12/site-packages (from prospector) (0.3)\n",
      "Requirement already satisfied: pylint-django<2.6,>=2.5 in /Library/Frameworks/Python.framework/Versions/3.12/lib/python3.12/site-packages (from prospector) (2.5.3)\n",
      "Requirement already satisfied: pylint-flask==0.6 in /Library/Frameworks/Python.framework/Versions/3.12/lib/python3.12/site-packages (from prospector) (0.6)\n",
      "Requirement already satisfied: pylint-plugin-utils<0.8,>=0.7 in /Library/Frameworks/Python.framework/Versions/3.12/lib/python3.12/site-packages (from prospector) (0.7)\n",
      "Requirement already satisfied: requirements-detector>=1.2.0 in /Library/Frameworks/Python.framework/Versions/3.12/lib/python3.12/site-packages (from prospector) (1.2.2)\n",
      "Requirement already satisfied: setoptconf-tmp<0.4.0,>=0.3.1 in /Library/Frameworks/Python.framework/Versions/3.12/lib/python3.12/site-packages (from prospector) (0.3.1)\n",
      "Requirement already satisfied: toml<0.11.0,>=0.10.2 in /Library/Frameworks/Python.framework/Versions/3.12/lib/python3.12/site-packages (from prospector) (0.10.2)\n",
      "Requirement already satisfied: astroid>=1.0 in /Library/Frameworks/Python.framework/Versions/3.12/lib/python3.12/site-packages (from pylint-celery==0.3->prospector) (2.15.8)\n",
      "Requirement already satisfied: gitdb<5,>=4.0.1 in /Library/Frameworks/Python.framework/Versions/3.12/lib/python3.12/site-packages (from GitPython<4.0.0,>=3.1.27->prospector) (4.0.11)\n",
      "Requirement already satisfied: flake8-polyfill<2,>=1.0.2 in /Library/Frameworks/Python.framework/Versions/3.12/lib/python3.12/site-packages (from pep8-naming<=0.10.0,>=0.3.3->prospector) (1.0.2)\n",
      "Requirement already satisfied: snowballstemmer>=2.2.0 in /Library/Frameworks/Python.framework/Versions/3.12/lib/python3.12/site-packages (from pydocstyle>=2.0.0->prospector) (2.2.0)\n",
      "Requirement already satisfied: platformdirs>=2.2.0 in /Users/simonskodt/Library/Python/3.12/lib/python/site-packages (from pylint>=2.8.3->prospector) (4.2.1)\n",
      "Requirement already satisfied: isort<6,>=4.2.5 in /Library/Frameworks/Python.framework/Versions/3.12/lib/python3.12/site-packages (from pylint>=2.8.3->prospector) (5.13.2)\n",
      "Requirement already satisfied: tomlkit>=0.10.1 in /Library/Frameworks/Python.framework/Versions/3.12/lib/python3.12/site-packages (from pylint>=2.8.3->prospector) (0.12.4)\n",
      "Requirement already satisfied: dill>=0.3.6 in /Library/Frameworks/Python.framework/Versions/3.12/lib/python3.12/site-packages (from pylint>=2.8.3->prospector) (0.3.8)\n",
      "Requirement already satisfied: semver<4.0.0,>=3.0.0 in /Library/Frameworks/Python.framework/Versions/3.12/lib/python3.12/site-packages (from requirements-detector>=1.2.0->prospector) (3.0.2)\n",
      "Requirement already satisfied: lazy-object-proxy>=1.4.0 in /Library/Frameworks/Python.framework/Versions/3.12/lib/python3.12/site-packages (from astroid>=1.0->pylint-celery==0.3->prospector) (1.10.0)\n",
      "Requirement already satisfied: wrapt<2,>=1.14 in /Library/Frameworks/Python.framework/Versions/3.12/lib/python3.12/site-packages (from astroid>=1.0->pylint-celery==0.3->prospector) (1.16.0)\n",
      "Requirement already satisfied: smmap<6,>=3.0.1 in /Library/Frameworks/Python.framework/Versions/3.12/lib/python3.12/site-packages (from gitdb<5,>=4.0.1->GitPython<4.0.0,>=3.1.27->prospector) (5.0.1)\n",
      "Requirement already satisfied: setuptools in /Library/Frameworks/Python.framework/Versions/3.12/lib/python3.12/site-packages (69.5.1)\n"
     ]
    }
   ],
   "source": [
    "!pip3 install prospector\n",
    "!pip3 install setuptools"
   ]
  },
  {
   "cell_type": "code",
   "execution_count": 12,
   "metadata": {},
   "outputs": [
    {
     "name": "stdout",
     "output_type": "stream",
     "text": [
      "Current folder: api\n"
     ]
    }
   ],
   "source": [
    "ZEEGUU_FOLDER = 'zeeguu'\n",
    "current_folder = os.path.basename(os.getcwd())\n",
    "\n",
    "if current_folder != ZEEGUU_FOLDER:\n",
    "    os.chdir(ZEEGUU_FOLDER)\n",
    "    \n",
    "print(\"Current folder:\", current_folder)"
   ]
  },
  {
   "cell_type": "code",
   "execution_count": 13,
   "metadata": {},
   "outputs": [],
   "source": [
    "import subprocess\n",
    "\n",
    "# To run prospector, we simple run the command below\n",
    "# Here, we save the output to a file\n",
    "PROSP_OUTPUT = '../../source_analysis_files/prospector_output.txt'\n",
    "\n",
    "if not os.path.exists(PROSP_OUTPUT):\n",
    "    # Run prospector command and redirect output to prosp file\n",
    "    with open(PROSP_OUTPUT, 'w') as f:\n",
    "        subprocess.run(['prospector'], stdout=f)\n",
    "    print(\"File created.\")"
   ]
  },
  {
   "cell_type": "code",
   "execution_count": 14,
   "metadata": {},
   "outputs": [
    {
     "name": "stdout",
     "output_type": "stream",
     "text": [
      "Core errors:    124       \n",
      "API errors:     57        \n",
      "Config errors:  1         \n",
      "Logging errors: 0         \n",
      "CL errors:      0         \n",
      "Total errors:   182       \n"
     ]
    }
   ],
   "source": [
    "CORE, API, CONFIG, LOGGING, CL = 'core/', 'api/', 'config/', 'logging/', 'cl/'\n",
    "\n",
    "# Parse output of prospector to count number of errors in each module\n",
    "with open(PROSP_OUTPUT, 'r') as file:\n",
    "    content = file.read()\n",
    "\n",
    "core_errors    = content.count(CORE)\n",
    "api_errors     = content.count(API)\n",
    "config_errors  = content.count(CONFIG)\n",
    "logging_errors = content.count(LOGGING)\n",
    "cl_errors      = content.count(CL)\n",
    "\n",
    "# Count the total number of errors in the entire project\n",
    "total_errors = core_errors + api_errors + config_errors + logging_errors + cl_errors\n",
    "\n",
    "# Print the results\n",
    "print(f\"Core errors:\".ljust(15), str(core_errors).ljust(10))\n",
    "print(f\"API errors:\".ljust(15), str(api_errors).ljust(10))\n",
    "print(f\"Config errors:\".ljust(15), str(config_errors).ljust(10))\n",
    "print(f\"Logging errors:\".ljust(15), str(logging_errors).ljust(10))\n",
    "print(f\"CL errors:\".ljust(15), str(cl_errors).ljust(10))\n",
    "print(f\"Total errors:\".ljust(15), str(total_errors).ljust(10))"
   ]
  },
  {
   "cell_type": "code",
   "execution_count": 15,
   "metadata": {},
   "outputs": [],
   "source": [
    "# Let's count the number of errors per module\n"
   ]
  },
  {
   "cell_type": "code",
   "execution_count": 48,
   "metadata": {},
   "outputs": [
    {
     "name": "stdout",
     "output_type": "stream",
     "text": [
      "CORE/ MODULE\n",
      "\n",
      "Subdirectory                   Directories     Files      Lines (.py)\n",
      " user_activity_hooks           0               2          98        \n",
      " account_management            0               2          137       \n",
      " word_scheduling               2               4          487       \n",
      " test                          3               77         2338      \n",
      " util                          0               6          224       \n",
      " elastic                       0               5          269       \n",
      " word_stats                    0               1          15        \n",
      " diagrams                      0               1          0         \n",
      " content_recommender           0               2          310       \n",
      " content_quality               0               2          82        \n",
      " content_retriever             0               8          488       \n",
      " language                      2               12         1114      \n",
      " exercises                     0               2          19        \n",
      " user_statistics               0               6          473       \n",
      " model                         0               39         5403      \n",
      " content_cleaning              0               3          106       \n",
      " crowd_translations            0               1          24        \n",
      " nlp_pipeline                  0               7          1171      \n",
      " bookmark_quality              0               5          171       \n",
      " reading_analysis              0               1          89        \n",
      " ml_models                     1               5          38        \n",
      " emailer                       0               4          215       \n",
      " definition_of_learned         0               2          17        \n",
      " feed_handler                  0               4          185       \n",
      " sql                           3               9          252       \n",
      "\n",
      "\n",
      "API/ MODULE\n",
      "\n",
      "Subdirectory                   Directories     Files      Lines (.py)\n",
      " endpoints                     2               39         3931      \n",
      " test                          0               11         675       \n",
      " utils                         0               6          374       \n",
      "\n",
      "\n"
     ]
    }
   ],
   "source": [
    "from pathlib import Path\n",
    "\n",
    "# Count the number of files in each directories, with root being the 'zeeguu' folder\n",
    "def count_dir_files_advanced(directory):\n",
    "    print(f\"{directory.upper()} MODULE\\n\") # dir name\n",
    "    print(f\"Subdirectory\".ljust(30), \"Directories\".ljust(15), \"Files\".ljust(10), \"Lines (.py)\".ljust(10)) # column headers\n",
    "\n",
    "    for entry in Path(directory).rglob('*'):\n",
    "\n",
    "        # Only for the first layer of directories\n",
    "        if entry.parent == Path(directory) and entry.is_dir():\n",
    "            n_dirs = sum(1 for _ in entry.rglob('*') if _.is_dir())\n",
    "            n_files = sum(1 for _ in entry.rglob('*') if _.is_file())\n",
    "\n",
    "            # Number of lines in each file, not counting .joblib or .json files => only python files\n",
    "            total_lines = 0\n",
    "            for file in entry.rglob('*.py'):\n",
    "                with open(file, 'r') as f:\n",
    "                    total_lines += sum(1 for _ in f)\n",
    "\n",
    "            print(f\" {entry.relative_to(directory)}\".ljust(30), f\"{n_dirs}\".ljust(15), f\"{n_files}\".ljust(10), f\"{total_lines}\".ljust(10))\n",
    "\n",
    "    print(\"\\n\")\n",
    "\n",
    "# Try for the two main modules\n",
    "count_dir_files_advanced(CORE)\n",
    "count_dir_files_advanced(API)"
   ]
  },
  {
   "cell_type": "code",
   "execution_count": 20,
   "metadata": {},
   "outputs": [
    {
     "name": "stdout",
     "output_type": "stream",
     "text": [
      "CORE/ MODULE\n",
      "# of directories: 36\n",
      "# of files: 212\n",
      "# of total lines: 13813\n",
      "\n",
      "API/ MODULE\n",
      "# of directories: 5\n",
      "# of files: 61\n",
      "# of total lines: 5107\n",
      "\n",
      "CONFIG/ MODULE\n",
      "# of directories: 0\n",
      "# of files: 2\n",
      "# of total lines: 78\n",
      "\n",
      "LOGGING/ MODULE\n",
      "# of directories: 0\n",
      "# of files: 1\n",
      "# of total lines: 37\n",
      "\n",
      "CL/ MODULE\n",
      "# of directories: 0\n",
      "# of files: 1\n",
      "# of total lines: 9\n",
      "\n"
     ]
    }
   ],
   "source": [
    "def count_dir_files_simple(directory):\n",
    "    n_dir, n_files = 0, 0\n",
    "    print(f\"{directory.upper()} MODULE\") # dir name\n",
    "\n",
    "    for _, dirs, files in os.walk(directory):\n",
    "        n_dir += len(dirs)\n",
    "        n_files += len(files)\n",
    "\n",
    "    print(\"# of directories:\", n_dir)\n",
    "    print(\"# of files:\", n_files)\n",
    "\n",
    "    # Total number of lines in all files\n",
    "    total_lines = 0\n",
    "    for entry in Path(directory).rglob('*.py'):\n",
    "        if entry.is_file():\n",
    "            lines = sum(1 for _ in entry.open())\n",
    "            total_lines += lines\n",
    "\n",
    "    print(\"# of total lines:\", total_lines, end='\\n\\n')\n",
    "    \n",
    "    return n_dir, n_files, total_lines\n",
    "\n",
    "core_view    = count_dir_files_simple(CORE)\n",
    "module_view  = count_dir_files_simple(API)\n",
    "config_view  = count_dir_files_simple(CONFIG)\n",
    "logging_view = count_dir_files_simple(LOGGING)\n",
    "cl_view      = count_dir_files_simple(CL)"
   ]
  },
  {
   "cell_type": "code",
   "execution_count": 24,
   "metadata": {},
   "outputs": [
    {
     "name": "stdout",
     "output_type": "stream",
     "text": [
      "Requirement already satisfied: tabulate in /Library/Frameworks/Python.framework/Versions/3.12/lib/python3.12/site-packages (0.9.0)\n",
      "+---------+---------------+---------+---------------+\n",
      "| View    |   Directories |   Files |   Total Lines |\n",
      "+=========+===============+=========+===============+\n",
      "| Core    |            36 |     212 |         13813 |\n",
      "+---------+---------------+---------+---------------+\n",
      "| Module  |             5 |      61 |          5107 |\n",
      "+---------+---------------+---------+---------------+\n",
      "| Config  |             0 |       2 |            78 |\n",
      "+---------+---------------+---------+---------------+\n",
      "| Logging |             0 |       1 |            37 |\n",
      "+---------+---------------+---------+---------------+\n",
      "| CL      |             0 |       1 |             9 |\n",
      "+---------+---------------+---------+---------------+\n"
     ]
    }
   ],
   "source": [
    "!pip3 install tabulate\n",
    "from tabulate import tabulate\n",
    "\n",
    "# Display the results in a prettier tabular format\n",
    "data = [\n",
    "    [\"Core\", *core_view],\n",
    "    [\"Module\", *module_view],\n",
    "    [\"Config\", *config_view],\n",
    "    [\"Logging\", *logging_view],\n",
    "    [\"CL\", *cl_view]\n",
    "]\n",
    "\n",
    "headers = [\"View\", \"Directories\", \"Files\", \"Total Lines\"]\n",
    "\n",
    "print(tabulate(data, headers=headers, tablefmt=\"grid\"))"
   ]
  },
  {
   "cell_type": "markdown",
   "metadata": {},
   "source": [
    "### Bandit\n",
    "\n",
    "The second static analysis tool I will use is Bandit, in order to find security issues in the code. Bandit processes the project, builds an abstract syntax tree (AST), runs plugins against the AST nodes, and generates a vulnerability report.\n",
    "\n",
    "Link: [bandit.readthedocs.io](https://bandit.readthedocs.io/en/latest/)"
   ]
  }
 ],
 "metadata": {
  "kernelspec": {
   "display_name": "Python 3",
   "language": "python",
   "name": "python3"
  },
  "language_info": {
   "codemirror_mode": {
    "name": "ipython",
    "version": 3
   },
   "file_extension": ".py",
   "mimetype": "text/x-python",
   "name": "python",
   "nbconvert_exporter": "python",
   "pygments_lexer": "ipython3",
   "version": "3.12.3"
  }
 },
 "nbformat": 4,
 "nbformat_minor": 2
}
