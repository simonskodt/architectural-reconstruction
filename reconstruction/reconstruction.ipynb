{
 "cells": [
  {
   "cell_type": "markdown",
   "metadata": {},
   "source": [
    "# Reconstruction\n",
    "\n",
    "In this notebook, I will be conducting an architectural reconstruction on the <mark>[Zeeguu/API](https://github.com/zeeguu/api) project</mark>. This means that I will gather as much information as possible from the implicit architecture (as-implemented architecture), using a variety of different tools to gain perspective into different architectural views: code, module, evolutionary, and execution view.\n",
    "\n",
    "I will concentrate on recovering the <mark>architectural module view</mark>. As I lack extensive experience in reengineering, I've chosen a simpler view.\n",
    "\n",
    "<div class=\"alert alert-block alert-info\">\n",
    "    My primary objective is to recover the architectural module view, and gain a comprehensive understanding of the entire system.\n",
    "</div>"
   ]
  },
  {
   "cell_type": "markdown",
   "metadata": {},
   "source": [
    "## Architectural Lens\n",
    "\n",
    "The first tool I will use is called Architectural Lens. It is a software tool that generates a package view to display packages and their corresponding dependencies.\n",
    "\n",
    "Be aware that the GitHub readme documentation is not completely up to date.\n",
    "\n",
    "Link: [Architectural-Lens/tree/master](https://github.com/Perlten/Architectural-Lens/tree/master)"
   ]
  },
  {
   "cell_type": "code",
   "execution_count": 1,
   "metadata": {},
   "outputs": [
    {
     "name": "stdout",
     "output_type": "stream",
     "text": [
      "Requirement already satisfied: Architectural-Lens in /Library/Frameworks/Python.framework/Versions/3.12/lib/python3.12/site-packages (0.0.6)\n",
      "Requirement already satisfied: plantuml in /Library/Frameworks/Python.framework/Versions/3.12/lib/python3.12/site-packages (from Architectural-Lens) (0.3.0)\n",
      "Requirement already satisfied: typer in /Library/Frameworks/Python.framework/Versions/3.12/lib/python3.12/site-packages (from Architectural-Lens) (0.12.3)\n",
      "Requirement already satisfied: astroid in /Library/Frameworks/Python.framework/Versions/3.12/lib/python3.12/site-packages (from Architectural-Lens) (3.1.0)\n",
      "Requirement already satisfied: six in /Library/Frameworks/Python.framework/Versions/3.12/lib/python3.12/site-packages (from Architectural-Lens) (1.16.0)\n",
      "Requirement already satisfied: requests in /Library/Frameworks/Python.framework/Versions/3.12/lib/python3.12/site-packages (from Architectural-Lens) (2.31.0)\n",
      "Requirement already satisfied: jsonschema in /Library/Frameworks/Python.framework/Versions/3.12/lib/python3.12/site-packages (from Architectural-Lens) (4.22.0)\n",
      "Requirement already satisfied: gitpython in /Library/Frameworks/Python.framework/Versions/3.12/lib/python3.12/site-packages (from Architectural-Lens) (3.1.43)\n",
      "Requirement already satisfied: gitdb<5,>=4.0.1 in /Library/Frameworks/Python.framework/Versions/3.12/lib/python3.12/site-packages (from gitpython->Architectural-Lens) (4.0.11)\n",
      "Requirement already satisfied: attrs>=22.2.0 in /Library/Frameworks/Python.framework/Versions/3.12/lib/python3.12/site-packages (from jsonschema->Architectural-Lens) (23.2.0)\n",
      "Requirement already satisfied: jsonschema-specifications>=2023.03.6 in /Library/Frameworks/Python.framework/Versions/3.12/lib/python3.12/site-packages (from jsonschema->Architectural-Lens) (2023.12.1)\n",
      "Requirement already satisfied: referencing>=0.28.4 in /Library/Frameworks/Python.framework/Versions/3.12/lib/python3.12/site-packages (from jsonschema->Architectural-Lens) (0.35.1)\n",
      "Requirement already satisfied: rpds-py>=0.7.1 in /Library/Frameworks/Python.framework/Versions/3.12/lib/python3.12/site-packages (from jsonschema->Architectural-Lens) (0.18.0)\n",
      "Requirement already satisfied: httplib2 in /Library/Frameworks/Python.framework/Versions/3.12/lib/python3.12/site-packages (from plantuml->Architectural-Lens) (0.22.0)\n",
      "Requirement already satisfied: charset-normalizer<4,>=2 in /Library/Frameworks/Python.framework/Versions/3.12/lib/python3.12/site-packages (from requests->Architectural-Lens) (3.3.2)\n",
      "Requirement already satisfied: idna<4,>=2.5 in /Library/Frameworks/Python.framework/Versions/3.12/lib/python3.12/site-packages (from requests->Architectural-Lens) (3.7)\n",
      "Requirement already satisfied: urllib3<3,>=1.21.1 in /Library/Frameworks/Python.framework/Versions/3.12/lib/python3.12/site-packages (from requests->Architectural-Lens) (2.2.1)\n",
      "Requirement already satisfied: certifi>=2017.4.17 in /Library/Frameworks/Python.framework/Versions/3.12/lib/python3.12/site-packages (from requests->Architectural-Lens) (2024.2.2)\n",
      "Requirement already satisfied: click>=8.0.0 in /Library/Frameworks/Python.framework/Versions/3.12/lib/python3.12/site-packages (from typer->Architectural-Lens) (8.1.7)\n",
      "Requirement already satisfied: typing-extensions>=3.7.4.3 in /Library/Frameworks/Python.framework/Versions/3.12/lib/python3.12/site-packages (from typer->Architectural-Lens) (4.11.0)\n",
      "Requirement already satisfied: shellingham>=1.3.0 in /Library/Frameworks/Python.framework/Versions/3.12/lib/python3.12/site-packages (from typer->Architectural-Lens) (1.5.4)\n",
      "Requirement already satisfied: rich>=10.11.0 in /Library/Frameworks/Python.framework/Versions/3.12/lib/python3.12/site-packages (from typer->Architectural-Lens) (13.7.1)\n",
      "Requirement already satisfied: smmap<6,>=3.0.1 in /Library/Frameworks/Python.framework/Versions/3.12/lib/python3.12/site-packages (from gitdb<5,>=4.0.1->gitpython->Architectural-Lens) (5.0.1)\n",
      "Requirement already satisfied: markdown-it-py>=2.2.0 in /Library/Frameworks/Python.framework/Versions/3.12/lib/python3.12/site-packages (from rich>=10.11.0->typer->Architectural-Lens) (3.0.0)\n",
      "Requirement already satisfied: pygments<3.0.0,>=2.13.0 in /Library/Frameworks/Python.framework/Versions/3.12/lib/python3.12/site-packages (from rich>=10.11.0->typer->Architectural-Lens) (2.18.0)\n",
      "Requirement already satisfied: pyparsing!=3.0.0,!=3.0.1,!=3.0.2,!=3.0.3,<4,>=2.4.2 in /Library/Frameworks/Python.framework/Versions/3.12/lib/python3.12/site-packages (from httplib2->plantuml->Architectural-Lens) (3.1.2)\n",
      "Requirement already satisfied: mdurl~=0.1 in /Library/Frameworks/Python.framework/Versions/3.12/lib/python3.12/site-packages (from markdown-it-py>=2.2.0->rich>=10.11.0->typer->Architectural-Lens) (0.1.2)\n"
     ]
    }
   ],
   "source": [
    "!pip3 install Architectural-Lens # install the package"
   ]
  },
  {
   "cell_type": "code",
   "execution_count": 2,
   "metadata": {},
   "outputs": [
    {
     "name": "stdout",
     "output_type": "stream",
     "text": [
      "Current folder: reconstruction\n"
     ]
    }
   ],
   "source": [
    "import os\n",
    "\n",
    "# Locate the current directory\n",
    "current_folder = os.path.basename(os.getcwd())\n",
    "print(\"Current folder:\", current_folder)"
   ]
  },
  {
   "cell_type": "code",
   "execution_count": 3,
   "metadata": {},
   "outputs": [
    {
     "name": "stdout",
     "output_type": "stream",
     "text": [
      "Current folder: api\n"
     ]
    }
   ],
   "source": [
    "# Change the directory to the root of the 'zeeguu_project'\n",
    "ROOT_FOLDER = 'api'\n",
    "\n",
    "if current_folder != ROOT_FOLDER:\n",
    "    os.chdir(ROOT_FOLDER)\n",
    "    print(\"Current folder:\", os.path.basename(os.getcwd()))"
   ]
  },
  {
   "cell_type": "code",
   "execution_count": 4,
   "metadata": {},
   "outputs": [],
   "source": [
    "# Run the Architectural Lens\n",
    "!archlens init"
   ]
  },
  {
   "cell_type": "code",
   "execution_count": 5,
   "metadata": {},
   "outputs": [
    {
     "name": "stdout",
     "output_type": "stream",
     "text": [
      "'SUCCESS: archlens.json' file exists; the contents of the file are:\n",
      "{\n",
      "    \"$schema\": \"https://raw.githubusercontent.com/Perlten/Architectural-Lens/master/config.schema.json\",\n",
      "    \"name\": \"api\",\n",
      "    \"rootFolder\": \"\",\n",
      "    \"github\": {\n",
      "        \"url\": \"\",\n",
      "        \"branch\": \"main\"\n",
      "    },\n",
      "    \"saveLocation\": \"./diagrams/\",\n",
      "    \"views\": {\n",
      "        \"completeView\": {\n",
      "            \"packages\": [\n",
      "                {\n",
      "                    \"packagePath\": \"\",\n",
      "                    \"depth\": 0\n",
      "                }\n",
      "            ],\n",
      "            \"ignorePackages\": []\n",
      "        }\n",
      "    }\n",
      "}\n"
     ]
    }
   ],
   "source": [
    "# Check to see if the 'archlens.json' file is created\n",
    "if os.path.exists('archlens.json'):\n",
    "    print(\"'SUCCESS: archlens.json' file exists; the contents of the file are:\")\n",
    "    # Content of the 'archlens.json' file\n",
    "    with open('archlens.json', 'r') as file:\n",
    "        content = file.read()\n",
    "        print(content)\n",
    "else:\n",
    "    print(\"'archlens.json' file does not exist.\")"
   ]
  },
  {
   "cell_type": "markdown",
   "metadata": {},
   "source": [
    "<div class=\"alert alert-block alert-info\">\n",
    "    Now, I have to manually locate the `archlens.json` folder. This process involves specifying the rootFolder, naming the view I'm interested in extracting, and indicating the packages I'm not interested in, among other things.\n",
    "</div>\n",
    "\n",
    "First, I begin by viewing the entire system."
   ]
  },
  {
   "cell_type": "code",
   "execution_count": 39,
   "metadata": {},
   "outputs": [],
   "source": [
    "# Render the architectural package diagram, inside try-except block due to error:\n",
    "# PlantUMLConnectionError: Unable to find the server at mt-plantuml-app-service.azurewebsites.net\n",
    "# !archlens render\n",
    "\"\"\"\n",
    "Error:\n",
    "File \"/Library/Frameworks/Python.framework/Versions/3.11/lib/python3.11/site-packages/plantuml.py\", line 171, in processes\n",
    "    raise PlantUMLConnectionError(e)\n",
    "PlantUMLConnectionError: Unable to find the server at mt-plantuml-app-service.azurewebsites.net\n",
    "\"\"\";"
   ]
  },
  {
   "cell_type": "code",
   "execution_count": null,
   "metadata": {},
   "outputs": [],
   "source": []
  },
  {
   "cell_type": "markdown",
   "metadata": {},
   "source": [
    "<div class=\"alert alert-block alert-warning\">  \n",
    "    Given that I encountered a <mark>PlantUMLConnectionError</mark> and was unable to resolve it, I used the following `archlens.json` config file. Instead, I had a fellow student run the `archlens render` command for me.\n",
    "</div>"
   ]
  },
  {
   "cell_type": "markdown",
   "metadata": {},
   "source": [
    "I used the following json code.\n",
    "\n",
    "```json\n",
    "{\n",
    "    \"$schema\": \"https://raw.githubusercontent.com/Perlten/Architectural-Lens/master/config.schema.json\",\n",
    "    \"name\": \"-\",\n",
    "    \"rootFolder\": \"zeeguu\",\n",
    "    \"github\": {\n",
    "        \"url\": \"https://github.com/zeeguu/api\",\n",
    "        \"branch\": \"master\"\n",
    "    },\n",
    "    \"saveLocation\": \"./diagramsSimon/\",\n",
    "    \"views\": {\n",
    "        \"completeView\": {\n",
    "            \"packages\": [],\n",
    "            \"ignorePackages\": []\n",
    "        },\n",
    "        \"coreView\": {\n",
    "            \"packages\": [\"core\"],\n",
    "            \"ignorePackages\": []\n",
    "        },\n",
    "        \"coreModelView\": {\n",
    "            \"packages\": [\"core.model\"],\n",
    "            \"ignorePackages\": []\n",
    "        },\n",
    "        \"apiView\": {\n",
    "            \"packages\": [\"api\"],\n",
    "            \"ignorePackages\": []\n",
    "        },\n",
    "        \"apiDepthView\": {\n",
    "            \"packages\": [\n",
    "                {\n",
    "                    \"path\": \"api\",\n",
    "                    \"depth\": 3\n",
    "                }\n",
    "            ],\n",
    "            \"ignorePackages\": []\n",
    "        }\n",
    "    }\n",
    "}\n",
    "```"
   ]
  },
  {
   "cell_type": "markdown",
   "metadata": {},
   "source": [
    "<div class=\"alert alert-block alert-success\">\n",
    "    Given that the tool did not output the diagrams I attempted to configure, I managed to obtain three different views: complete, core, and API view, all at depth 2. They are all shown below:\n",
    "</div>\n",
    "\n",
    "**Complete, top-level-view, of source code**\n",
    "<img src=\"../img/archlens/completeView.png\"\n",
    "     alt=\"api\"\n",
    "     style=\"float: center; margin-right: 10px; margin-bottom: 10px\" />\n",
    "\n",
    "\n",
    "**View of API module**   \n",
    "<img src=\"../img/archlens/apiDepth.png\"\n",
    "     alt=\"api\"\n",
    "     style=\"float: center; margin-right: 10px; margin-bottom: 10px\" />\n",
    "\n",
    "     \n",
    "**View of Core module**\n",
    "<img src=\"../img/archlens/coreView.png\"\n",
    "     alt=\"api\"\n",
    "     style=\"float: left; margin-right: 10px; margin-bottom: 10px\" />\n"
   ]
  },
  {
   "cell_type": "markdown",
   "metadata": {},
   "source": [
    "## Pyreverse\n",
    "\n",
    "The second tool I will use is the Pyreverse tool, which is part of the pylint package, a static code analyzer.\n",
    "\n",
    "Link: [Pyreverse](https://pypi.org/project/pyreverse/)"
   ]
  },
  {
   "cell_type": "code",
   "execution_count": 13,
   "metadata": {},
   "outputs": [
    {
     "name": "stdout",
     "output_type": "stream",
     "text": [
      "Requirement already satisfied: pylint in /Library/Frameworks/Python.framework/Versions/3.12/lib/python3.12/site-packages (3.1.0)\n",
      "Requirement already satisfied: platformdirs>=2.2.0 in /Users/simonskodt/Library/Python/3.12/lib/python/site-packages (from pylint) (4.2.1)\n",
      "Requirement already satisfied: astroid<=3.2.0-dev0,>=3.1.0 in /Library/Frameworks/Python.framework/Versions/3.12/lib/python3.12/site-packages (from pylint) (3.1.0)\n",
      "Requirement already satisfied: isort!=5.13.0,<6,>=4.2.5 in /Library/Frameworks/Python.framework/Versions/3.12/lib/python3.12/site-packages (from pylint) (5.13.2)\n",
      "Requirement already satisfied: mccabe<0.8,>=0.6 in /Library/Frameworks/Python.framework/Versions/3.12/lib/python3.12/site-packages (from pylint) (0.7.0)\n",
      "Requirement already satisfied: tomlkit>=0.10.1 in /Library/Frameworks/Python.framework/Versions/3.12/lib/python3.12/site-packages (from pylint) (0.12.4)\n",
      "Requirement already satisfied: dill>=0.3.6 in /Library/Frameworks/Python.framework/Versions/3.12/lib/python3.12/site-packages (from pylint) (0.3.8)\n"
     ]
    }
   ],
   "source": [
    "!pip3 install pylint"
   ]
  },
  {
   "cell_type": "code",
   "execution_count": 34,
   "metadata": {},
   "outputs": [
    {
     "name": "stdout",
     "output_type": "stream",
     "text": [
      "Format png is not supported natively. Pyreverse will try to generate it using Graphviz...\n",
      "Analysed 11 modules with a total of 10 imports\n"
     ]
    }
   ],
   "source": [
    "# The outcommented code below was used to different class and package diagrams\n",
    "# !pyreverse -o png zeeguu\n",
    "# !pyreverse -o png zeeguu/core\n",
    "# !pyreverse -o png zeeguu/core/model\n",
    "# !pyreverse -o png zeeguu/api\n",
    "# !pyreverse -o png zeeguu/api/endpoints\n",
    "!pyreverse -o png zeeguu/core/language"
   ]
  },
  {
   "cell_type": "markdown",
   "metadata": {},
   "source": [
    "<div class=\"alert alert-block alert-success\">\n",
    "    Some of the interestingly generated diagrams are inserted below:\n",
    "</div>"
   ]
  },
  {
   "cell_type": "markdown",
   "metadata": {},
   "source": [
    "**API package diagram**\n",
    "<img src=\"../img/pyreverse/api-packages.png\"\n",
    "     alt=\"api\"\n",
    "     style=\"float: center; margin-right: 10px; margin-bottom: 10px\" />\n",
    "\n",
    "**<code>core/model/estimator</code> class diagram**   \n",
    "<img src=\"../img/pyreverse/core-estimator-classes.png\"\n",
    "     alt=\"api\"\n",
    "     style=\"float: center; margin-right: 10px; margin-bottom: 10px\" />"
   ]
  },
  {
   "cell_type": "markdown",
   "metadata": {},
   "source": [
    "## Git Truck\n",
    "\n",
    "The third tool I will use is the Git-Truck tool, which looks at files that are most often changed and who has contributed to which files.\n",
    "\n",
    "Link: [git-truck/tree/main](https://github.com/git-truck/git-truck)"
   ]
  },
  {
   "cell_type": "code",
   "execution_count": 41,
   "metadata": {},
   "outputs": [
    {
     "name": "stdout",
     "output_type": "stream",
     "text": [
      "\u001b[1G\u001b[0K⠙\u001b[1G\u001b[0K⠹\u001b[1G\u001b[0K⠸\u001b[1G\u001b[0K⠼\u001b[1G\u001b[0K⠴\u001b[1G\u001b[0K⠦\u001b[1G\u001b[0K⠧\u001b[1G\u001b[0K⠇\u001b[1G\u001b[0K⠏\u001b[1G\u001b[0K⠋\u001b[1G\u001b[0K⠙\u001b[1G\u001b[0K\u001b[2J\u001b[0;0H\n",
      "Git Truck version 1.12.0 (latest)\n",
      "\n",
      "\u001b[?25l\u001b[1G\u001b[33m           🚛\n",
      "\u001b[39m Starting app\u001b[1G\u001b[2K\u001b[1G\u001b[1A\u001b[2K\u001b[1G\u001b[32m✔\u001b[39m App started \u001b[90m2ms\u001b[39m\n",
      "\u001b[?25h\u001b[?25l\u001b[1G\u001b[33m                    🚛\n",
      "\u001b[39m Checking for git repo\u001b[1G\u001b[2K\u001b[1G\u001b[1A\u001b[2K\u001b[1G\u001b[32m✔\u001b[39m Done checking for git repo \u001b[90m31ms\u001b[39m\n",
      "\u001b[?25h\u001b[?25l\u001b[1G\u001b[33m                                🚛\n",
      "\u001b[39m Opening Git Truck in your browser\u001b[1G\u001b[2K\u001b[1G\u001b[1A\u001b[2K\u001b[1G\u001b[32m✔\u001b[39m Opened Git Truck in your browser \u001b[90m2ms\u001b[39m\n",
      "\u001b[?25h\u001b[?25l\u001b[1G\u001b[33m                  🚛\n",
      "\u001b[39m Finding branch head\u001b[1G\u001b[2K\u001b[1G\u001b[1A\u001b[2K\u001b[1G\u001b[32m✔\u001b[39m Found branch head \u001b[90m10ms\u001b[39m\n",
      "\u001b[?25h\u001b[1G\u001b[32m✔\u001b[39m Ready in \u001b[90m16ms\u001b[39m\n",
      "\u001b[?25hNo sorted authors for file api/tools/__init__.py\n",
      "No sorted authors for file api/tools/old/__init__.py\n",
      "No sorted authors for file api/zeeguu/__init__.py\n",
      "No sorted authors for file api/zeeguu/api/endpoints/helpers/__init__.py\n",
      "No sorted authors for file api/zeeguu/config/__init__.py\n",
      "No sorted authors for file api/zeeguu/core/account_management/__init__.py\n",
      "No sorted authors for file api/zeeguu/core/content_quality/__init__.py\n",
      "No sorted authors for file api/zeeguu/core/elastic/__init__.py\n",
      "No sorted authors for file api/zeeguu/core/emailer/__init__.py\n",
      "No sorted authors for file api/zeeguu/core/exercises/__init__.py\n",
      "No sorted authors for file api/zeeguu/core/language/__init__.py\n",
      "No sorted authors for file api/zeeguu/core/language/strategies/__init__.py\n",
      "No sorted authors for file api/zeeguu/core/sql/__init__.py\n",
      "No sorted authors for file api/zeeguu/core/sql/learner/__init__.py\n",
      "No sorted authors for file api/zeeguu/core/sql/teacher/__init__.py\n",
      "No sorted authors for file api/zeeguu/core/test/__init__.py\n",
      "No sorted authors for file api/zeeguu/core/test/rules/__init__.py\n",
      "No sorted authors for file api/zeeguu/core/test/tests_difficulty_estimator_strategies/__init__.py\n",
      "No sorted authors for file api/zeeguu/core/user_activity_hooks/__init__.py\n",
      "No sorted authors for file api/zeeguu/core/user_statistics/__init__.py\n",
      "No sorted authors for file api/zeeguu/core/word_scheduling/basicSR/__init__.py\n",
      "SYSTEM\n",
      "Error: Invariant failed\n",
      "    at z6 (/Users/simonskodt/.npm/_npx/b7d9c0e931d6d7c6/node_modules/\u001b[4mgit-truck\u001b[24m/build/index.js:84:109948)\n",
      "    at Cp1 (/Users/simonskodt/.npm/_npx/b7d9c0e931d6d7c6/node_modules/\u001b[4mgit-truck\u001b[24m/build/index.js:94:8824)\n",
      "    at Pk (/Users/simonskodt/.npm/_npx/b7d9c0e931d6d7c6/node_modules/\u001b[4mgit-truck\u001b[24m/cli.js:119:4230)\n",
      "    at a.loader (/Users/simonskodt/.npm/_npx/b7d9c0e931d6d7c6/node_modules/\u001b[4mgit-truck\u001b[24m/cli.js:119:5446)\n",
      "    at p (/Users/simonskodt/.npm/_npx/b7d9c0e931d6d7c6/node_modules/\u001b[4mgit-truck\u001b[24m/cli.js:113:13360)\n",
      "    at JR (/Users/simonskodt/.npm/_npx/b7d9c0e931d6d7c6/node_modules/\u001b[4mgit-truck\u001b[24m/cli.js:113:13794)\n",
      "    at /Users/simonskodt/.npm/_npx/b7d9c0e931d6d7c6/node_modules/\u001b[4mgit-truck\u001b[24m/cli.js:113:11582\n",
      "    at Array.map (<anonymous>)\n",
      "    at u (/Users/simonskodt/.npm/_npx/b7d9c0e931d6d7c6/node_modules/\u001b[4mgit-truck\u001b[24m/cli.js:113:11575)\n",
      "    at c (/Users/simonskodt/.npm/_npx/b7d9c0e931d6d7c6/node_modules/\u001b[4mgit-truck\u001b[24m/cli.js:113:9714)\n",
      "\u001b[?25l\u001b[1G\u001b[33m              🚛\n",
      "\u001b[39m Loading commits\u001b[1G\u001b[2K\u001b[1G\u001b[1A\u001b[2K\u001b[1G\u001b[32m✔\u001b[39m Loaded commits \u001b[90m26ms\u001b[39m\n",
      "\u001b[?25h\u001b[?25l\u001b[1G\u001b[33m                  🚛\n",
      "\u001b[39m Finding branch head\u001b[1G\u001b[2K\u001b[1G\u001b[1A\u001b[2K\u001b[1G\u001b[32m✔\u001b[39m Found branch head \u001b[90m11ms\u001b[39m\n",
      "\u001b[?25h\u001b[?25l\u001b[1G\u001b[33m                    🚛\n",
      "\u001b[39m Analyzing commit tree\u001b[1G\u001b[2K\u001b[1G\u001b[1A\u001b[2K\u001b[1G\u001b[32m✔\u001b[39m Commit tree analyzed \u001b[90m24ms\u001b[39m\n",
      "\u001b[?25h\u001b[?25l\u001b[1G\u001b[33m                    🚛\n",
      "\u001b[39m Hydrating commit tree\u001b[?25l\u001b[1G\u001b[2K\u001b[1G\u001b[1A\u001b[2K\u001b[1G\u001b[33m                   🚛\n",
      "\u001b[39m Hydrating commit tree\u001b[?25l\u001b[1G\u001b[2K\u001b[1G\u001b[1A\u001b[2K\u001b[1G\u001b[33m                  🚛\n",
      "\u001b[39m Hydrating commit tree\u001b[1G\u001b[2K\u001b[1G\u001b[1A\u001b[2K\u001b[1G\u001b[32m✔\u001b[39m Commit tree hydrated \u001b[90m153ms\u001b[39m\n",
      "\u001b[?25h\u001b[1G\u001b[32m✔\u001b[39m Ready in \u001b[90m268ms\u001b[39m\n",
      "\u001b[?25h^C\n"
     ]
    }
   ],
   "source": [
    "!npx -y git-truck"
   ]
  },
  {
   "cell_type": "markdown",
   "metadata": {},
   "source": [
    "<div class=\"alert alert-block alert-success\">\n",
    "    From Git-Truck, I was able to obtain information about which files were committed to most, which files were changed recently, and which files have not been changed in a while. I also found out which files only have a single contributor, and who in general is the biggest contributor.\n",
    "</div>"
   ]
  },
  {
   "cell_type": "markdown",
   "metadata": {},
   "source": [
    "**Number of commits**; *the <span style=\"color:red;\">redder</span> it is, the greater the number of commits*\n",
    "<img src=\"../img/gittruck/commits.png\"\n",
    "     alt=\"api\"\n",
    "     style=\"float: center; margin-right: 10px; margin-bottom: 10px\" />\n",
    "\n",
    "**Time since file was changed**; *if it is <span style=\"color:lightblue;\">light blue</span>, then it has been recently changed and vise versa*\n",
    "<img src=\"../img/gittruck/last-changed.png\"\n",
    "     alt=\"api\"\n",
    "     style=\"float: center; margin-right: 10px; margin-bottom: 10px\" />\n",
    "\n",
    "**Files with a single author**; *if <span style=\"color:cyan;\">in</span> <span style=\"color:lightblue;\">any</span> <span style=\"color:purple;\">color</span>*, then there has only been a single author contributing to that file\n",
    "<img src=\"../img/gittruck/single-author.png\"\n",
    "     alt=\"api\"\n",
    "     style=\"float: center; margin-right: 10px; margin-bottom: 10px\" />\n",
    "\n",
    "**Top contributor per file**; *a <span style=\"color:lightblue;\">distinct</span> color for each contributor*\n",
    "<img src=\"../img/gittruck/top-contributer.png\"\n",
    "     alt=\"api\"\n",
    "     style=\"float: center; margin-right: 10px; margin-bottom: 10px\" />"
   ]
  },
  {
   "cell_type": "markdown",
   "metadata": {},
   "source": [
    "## Static Code Analysis\n"
   ]
  }
 ],
 "metadata": {
  "kernelspec": {
   "display_name": "Python 3",
   "language": "python",
   "name": "python3"
  },
  "language_info": {
   "codemirror_mode": {
    "name": "ipython",
    "version": 3
   },
   "file_extension": ".py",
   "mimetype": "text/x-python",
   "name": "python",
   "nbconvert_exporter": "python",
   "pygments_lexer": "ipython3",
   "version": "3.12.3"
  }
 },
 "nbformat": 4,
 "nbformat_minor": 2
}
